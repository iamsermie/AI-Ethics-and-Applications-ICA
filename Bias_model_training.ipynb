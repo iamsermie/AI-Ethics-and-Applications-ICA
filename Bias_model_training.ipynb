{
 "cells": [
  {
   "cell_type": "code",
   "execution_count": 4,
   "metadata": {},
   "outputs": [
    {
     "name": "stdout",
     "output_type": "stream",
     "text": [
      "Hello World\n",
      "Welcome to Bias Testing Model Artificial Intelligence Ethics and Applications\n",
      "Testing Testing Testing About to Commti to Github\n"
     ]
    }
   ],
   "source": [
    "import numpy as np\n",
    "\n",
    "print (\"Hello World\")\n",
    "print (\"Welcome to Bias Testing Model Artificial Intelligence Ethics and Applications\") \n",
    "\n",
    "print (\"Testing Testing Testing About to Commti to Github\") "
   ]
  }
 ],
 "metadata": {
  "kernelspec": {
   "display_name": "base",
   "language": "python",
   "name": "python3"
  },
  "language_info": {
   "codemirror_mode": {
    "name": "ipython",
    "version": 3
   },
   "file_extension": ".py",
   "mimetype": "text/x-python",
   "name": "python",
   "nbconvert_exporter": "python",
   "pygments_lexer": "ipython3",
   "version": "3.12.7"
  }
 },
 "nbformat": 4,
 "nbformat_minor": 2
}
